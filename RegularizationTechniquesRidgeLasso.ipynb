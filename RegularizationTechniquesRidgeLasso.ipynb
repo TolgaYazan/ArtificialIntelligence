{
 "cells": [
  {
   "cell_type": "markdown",
   "id": "e6094e14",
   "metadata": {},
   "source": [
    "# Cmpe 343 Term Project\n",
    "# Regularization Techniques in ML (Ridge, lasso)\n",
    "## Tolga Yazan \n"
   ]
  },
  {
   "cell_type": "code",
   "execution_count": 42,
   "id": "05b96dd3",
   "metadata": {},
   "outputs": [],
   "source": [
    "# import pandas as pd\n",
    "import pandas as pd\n",
    "import numpy as np\n",
    "%matplotlib inline\n",
    "import matplotlib.pyplot as plt\n",
    "from sklearn import datasets\n",
    "from sklearn.model_selection import train_test_split\n",
    "from sklearn.linear_model import LinearRegression"
   ]
  },
  {
   "cell_type": "code",
   "execution_count": 43,
   "id": "f77f042c",
   "metadata": {},
   "outputs": [],
   "source": [
    "boston_dataset=datasets.load_boston() # load boston data set"
   ]
  },
  {
   "cell_type": "code",
   "execution_count": 44,
   "id": "16a24668",
   "metadata": {},
   "outputs": [
    {
     "name": "stdout",
     "output_type": "stream",
     "text": [
      "        CRIM    ZN  INDUS  CHAS    NOX     RM   AGE     DIS  RAD    TAX  \\\n",
      "0    0.00632  18.0   2.31   0.0  0.538  6.575  65.2  4.0900  1.0  296.0   \n",
      "1    0.02731   0.0   7.07   0.0  0.469  6.421  78.9  4.9671  2.0  242.0   \n",
      "2    0.02729   0.0   7.07   0.0  0.469  7.185  61.1  4.9671  2.0  242.0   \n",
      "3    0.03237   0.0   2.18   0.0  0.458  6.998  45.8  6.0622  3.0  222.0   \n",
      "4    0.06905   0.0   2.18   0.0  0.458  7.147  54.2  6.0622  3.0  222.0   \n",
      "..       ...   ...    ...   ...    ...    ...   ...     ...  ...    ...   \n",
      "501  0.06263   0.0  11.93   0.0  0.573  6.593  69.1  2.4786  1.0  273.0   \n",
      "502  0.04527   0.0  11.93   0.0  0.573  6.120  76.7  2.2875  1.0  273.0   \n",
      "503  0.06076   0.0  11.93   0.0  0.573  6.976  91.0  2.1675  1.0  273.0   \n",
      "504  0.10959   0.0  11.93   0.0  0.573  6.794  89.3  2.3889  1.0  273.0   \n",
      "505  0.04741   0.0  11.93   0.0  0.573  6.030  80.8  2.5050  1.0  273.0   \n",
      "\n",
      "     PTRATIO       B  LSTAT  House Price  \n",
      "0       15.3  396.90   4.98         24.0  \n",
      "1       17.8  396.90   9.14         21.6  \n",
      "2       17.8  392.83   4.03         34.7  \n",
      "3       18.7  394.63   2.94         33.4  \n",
      "4       18.7  396.90   5.33         36.2  \n",
      "..       ...     ...    ...          ...  \n",
      "501     21.0  391.99   9.67         22.4  \n",
      "502     21.0  396.90   9.08         20.6  \n",
      "503     21.0  396.90   5.64         23.9  \n",
      "504     21.0  393.45   6.48         22.0  \n",
      "505     21.0  396.90   7.88         11.9  \n",
      "\n",
      "[506 rows x 14 columns]\n"
     ]
    }
   ],
   "source": [
    "#We then convert the dataset into a DataFrame and set the columns and the target variable.\n",
    "boston_pd=pd.DataFrame(boston_dataset.data)\n",
    "boston_pd.columns = boston_dataset.feature_names\n",
    "boston_pd_target =np.asarray(boston_dataset.target)\n",
    "boston_pd['House Price'] =pd.Series(boston_pd_target)\n",
    "\n",
    "#input\n",
    "\n",
    "X=boston_pd.iloc[:, :-1]\n",
    "\n",
    "#output \n",
    "\n",
    "Y = boston_pd.iloc[:,-1]\n",
    "\n",
    "print(boston_pd)"
   ]
  },
  {
   "cell_type": "code",
   "execution_count": 45,
   "id": "accb4bd1",
   "metadata": {},
   "outputs": [
    {
     "name": "stdout",
     "output_type": "stream",
     "text": [
      "Train data shape of x = (379, 13) and Y = (379,) : \n",
      "Test data shape of x = (127, 13) and Y = (127,) : \n"
     ]
    }
   ],
   "source": [
    "#We then split our data into training and testing sets.\n",
    "x_train,x_test,y_train,y_test = train_test_split(\n",
    "    boston_pd.iloc[:,:-1],boston_pd.iloc[:,-1],\n",
    "    test_size=0.25)\n",
    "print(\"Train data shape of x = % s and Y = %s : \" %(\n",
    "x_train.shape,y_train.shape))\n",
    "\n",
    "print(\"Test data shape of x = % s and Y = %s : \" %(\n",
    "x_test.shape,y_test.shape))\n"
   ]
  },
  {
   "cell_type": "code",
   "execution_count": 46,
   "id": "06686cc0",
   "metadata": {},
   "outputs": [
    {
     "name": "stdout",
     "output_type": "stream",
     "text": [
      "Mean squared Error on test set :  19.116025829697687\n",
      "    Columns  Coefficient Estimate\n",
      "0      CRIM             -0.132333\n",
      "1        ZN              0.052558\n",
      "2     INDUS             -0.011632\n",
      "3      CHAS              2.802869\n",
      "4       NOX            -17.854151\n",
      "5        RM              3.501501\n",
      "6       AGE              0.000942\n",
      "7       DIS             -1.665881\n",
      "8       RAD              0.365849\n",
      "9       TAX             -0.012301\n",
      "10  PTRATIO             -0.992169\n",
      "11        B              0.013363\n",
      "12    LSTAT             -0.561010\n"
     ]
    }
   ],
   "source": [
    "#Apply multiple linear Regression Model\n",
    "lreg = LinearRegression()\n",
    "lreg.fit(x_train,y_train)\n",
    "\n",
    "#Generate Prediction on test set\n",
    "lreg_y_pred  =lreg.predict(x_test)\n",
    "\n",
    "#calculating mean Squared Error(mse)\n",
    "mean_squared_error = np.mean((lreg_y_pred - y_test)**2)\n",
    "print(\"Mean squared Error on test set : \" , mean_squared_error)\n",
    "\n",
    "#Putting together the coefficient and their corresponding variable names\n",
    "lreg_coefficient = pd.DataFrame()\n",
    "lreg_coefficient[\"Columns\"] = x_train.columns\n",
    "lreg_coefficient[\"Coefficient Estimate\"] = pd.Series(lreg.coef_)\n",
    "print(lreg_coefficient)"
   ]
  },
  {
   "cell_type": "code",
   "execution_count": 47,
   "id": "8093abbc",
   "metadata": {},
   "outputs": [
    {
     "name": "stdout",
     "output_type": "stream",
     "text": [
      "Mean squared error on test set 19.39040591377838\n",
      "    Columns  Coefficient Estimate\n",
      "0      CRIM             -0.128876\n",
      "1        ZN              0.054113\n",
      "2     INDUS             -0.048947\n",
      "3      CHAS              2.595069\n",
      "4       NOX             -9.724803\n",
      "5        RM              3.553123\n",
      "6       AGE             -0.005956\n",
      "7       DIS             -1.551701\n",
      "8       RAD              0.352552\n",
      "9       TAX             -0.013278\n",
      "10  PTRATIO             -0.910051\n",
      "11        B              0.014162\n",
      "12    LSTAT             -0.567441\n"
     ]
    },
    {
     "data": {
      "text/plain": [
       "'\\nRidge Regression in increase the mean squared error a little bit  2.08333% increase\\n\\n'"
      ]
     },
     "execution_count": 47,
     "metadata": {},
     "output_type": "execute_result"
    }
   ],
   "source": [
    "#import ridge regression from sklearn library\n",
    "from sklearn.linear_model import Ridge\n",
    "\n",
    "#train The model\n",
    "ridgeR = Ridge(alpha=1)\n",
    "ridgeR.fit(x_train,y_train)\n",
    "y_pred = ridgeR.predict(x_test)\n",
    "\n",
    "#calculate mean square error\n",
    "mean_squared_error_ridge=np.mean((y_pred-y_test)**2)\n",
    "print(\"Mean squared error on test set\",mean_squared_error_ridge)\n",
    "\n",
    "ridge_coefficient = pd.DataFrame()\n",
    "ridge_coefficient[\"Columns\"] = x_train.columns\n",
    "ridge_coefficient['Coefficient Estimate'] = pd.Series(ridgeR.coef_)\n",
    "print(ridge_coefficient)\n",
    "\"\"\"\n",
    "Ridge Regression in increase the mean squared error a little bit  2.08333% increase\n",
    "\n",
    "\"\"\"\n"
   ]
  },
  {
   "cell_type": "code",
   "execution_count": 48,
   "id": "ea0c295d",
   "metadata": {},
   "outputs": [
    {
     "name": "stdout",
     "output_type": "stream",
     "text": [
      "Mean squared error on test set 22.029589468444172\n",
      "    Columns  Coefficient Estimate\n",
      "0      CRIM             -0.080465\n",
      "1        ZN              0.055303\n",
      "2     INDUS             -0.004878\n",
      "3      CHAS              0.000000\n",
      "4       NOX             -0.000000\n",
      "5        RM              0.917131\n",
      "6       AGE              0.012610\n",
      "7       DIS             -0.846647\n",
      "8       RAD              0.330483\n",
      "9       TAX             -0.016257\n",
      "10  PTRATIO             -0.722308\n",
      "11        B              0.013078\n",
      "12    LSTAT             -0.767266\n"
     ]
    },
    {
     "data": {
      "text/plain": [
       "'\\nAfter Lass Regression  applied mean squared Error increase  14.5833% \\nso lasso regression more effective on this dataset \\n\\n'"
      ]
     },
     "execution_count": 48,
     "metadata": {},
     "output_type": "execute_result"
    }
   ],
   "source": [
    "#import Lasso regression from sklearn library\n",
    "from sklearn.linear_model import Lasso\n",
    "\n",
    "#train the model\n",
    "lasso=Lasso(alpha=1)\n",
    "lasso.fit(x_train,y_train)\n",
    "y_pred1 = lasso.predict(x_test)\n",
    "\n",
    "#calculate Mean squared Error\n",
    "\n",
    "mean_squared_error = np.mean((y_pred1-y_test)**2)\n",
    "print(\"Mean squared error on test set\",mean_squared_error)\n",
    "lasso_coeff=pd.DataFrame()\n",
    "lasso_coeff['Columns'] = x_train.columns\n",
    "lasso_coeff['Coefficient Estimate'] = pd.Series(lasso.coef_)\n",
    "                                               \n",
    "print(lasso_coeff)    \n",
    "\n",
    "\"\"\"\n",
    "After Lass Regression  applied mean squared Error increase  14.5833% \n",
    "so lasso regression more effective on this dataset \n",
    "\n",
    "\"\"\"\n"
   ]
  },
  {
   "cell_type": "code",
   "execution_count": null,
   "id": "6f66ff83",
   "metadata": {},
   "outputs": [],
   "source": []
  },
  {
   "cell_type": "code",
   "execution_count": null,
   "id": "dc0c6766",
   "metadata": {},
   "outputs": [],
   "source": []
  }
 ],
 "metadata": {
  "kernelspec": {
   "display_name": "Python 3 (ipykernel)",
   "language": "python",
   "name": "python3"
  },
  "language_info": {
   "codemirror_mode": {
    "name": "ipython",
    "version": 3
   },
   "file_extension": ".py",
   "mimetype": "text/x-python",
   "name": "python",
   "nbconvert_exporter": "python",
   "pygments_lexer": "ipython3",
   "version": "3.9.7"
  }
 },
 "nbformat": 4,
 "nbformat_minor": 5
}
